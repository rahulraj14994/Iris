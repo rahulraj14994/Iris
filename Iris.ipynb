{
 "cells": [
  {
   "cell_type": "code",
   "execution_count": 1,
   "id": "920e3bb1",
   "metadata": {},
   "outputs": [],
   "source": [
    "#Import the necessary libraries:"
   ]
  },
  {
   "cell_type": "code",
   "execution_count": 2,
   "id": "e3345f5e",
   "metadata": {},
   "outputs": [],
   "source": [
    "import numpy as np\n",
    "import pandas as pd\n",
    "from sklearn.model_selection import train_test_split\n",
    "from sklearn.linear_model import LinearRegression, LogisticRegression\n",
    "from sklearn.neighbors import KNeighborsClassifier\n",
    "from sklearn.metrics import accuracy_score\n",
    "import tensorflow as tf\n",
    "from tensorflow import keras\n",
    "from tensorflow.keras import layers"
   ]
  },
  {
   "cell_type": "code",
   "execution_count": 3,
   "id": "9f5ca486",
   "metadata": {},
   "outputs": [],
   "source": [
    "#Load the dataset:\n",
    "#Assuming you have the dataset stored in a CSV file (e.g., 'iris_dataset.csv'), load it using pandas:"
   ]
  },
  {
   "cell_type": "code",
   "execution_count": 4,
   "id": "63c9a56a",
   "metadata": {},
   "outputs": [],
   "source": [
    "data = pd.read_excel('Week_06_HW6_Iris_Dataset.xlsx')"
   ]
  },
  {
   "cell_type": "code",
   "execution_count": 5,
   "id": "36bfeda7",
   "metadata": {},
   "outputs": [],
   "source": [
    "#Preprocess the data:\n",
    "#Extract the features and labels from the dataset and split it into training and testing sets:"
   ]
  },
  {
   "cell_type": "code",
   "execution_count": 6,
   "id": "cd661dad",
   "metadata": {},
   "outputs": [],
   "source": [
    "X = data[['sepalWidth', 'petalWidth']]\n",
    "y = data['irisSpecies']\n",
    "\n",
    "# Convert species names to numerical labels for the Logistic Regression and ANN models\n",
    "species_mapping = {'Iris-setosa': 0, 'Iris-versicolor': 1}\n",
    "y = y.map(species_mapping)\n",
    "\n",
    "X_train, X_test, y_train, y_test = train_test_split(X, y, test_size=0.2, random_state=42)"
   ]
  },
  {
   "cell_type": "code",
   "execution_count": 7,
   "id": "8449e7e8",
   "metadata": {},
   "outputs": [],
   "source": [
    "#Create the Linear Regression model:"
   ]
  },
  {
   "cell_type": "code",
   "execution_count": 8,
   "id": "f85eedaf",
   "metadata": {},
   "outputs": [
    {
     "data": {
      "text/html": [
       "<style>#sk-container-id-1 {color: black;background-color: white;}#sk-container-id-1 pre{padding: 0;}#sk-container-id-1 div.sk-toggleable {background-color: white;}#sk-container-id-1 label.sk-toggleable__label {cursor: pointer;display: block;width: 100%;margin-bottom: 0;padding: 0.3em;box-sizing: border-box;text-align: center;}#sk-container-id-1 label.sk-toggleable__label-arrow:before {content: \"▸\";float: left;margin-right: 0.25em;color: #696969;}#sk-container-id-1 label.sk-toggleable__label-arrow:hover:before {color: black;}#sk-container-id-1 div.sk-estimator:hover label.sk-toggleable__label-arrow:before {color: black;}#sk-container-id-1 div.sk-toggleable__content {max-height: 0;max-width: 0;overflow: hidden;text-align: left;background-color: #f0f8ff;}#sk-container-id-1 div.sk-toggleable__content pre {margin: 0.2em;color: black;border-radius: 0.25em;background-color: #f0f8ff;}#sk-container-id-1 input.sk-toggleable__control:checked~div.sk-toggleable__content {max-height: 200px;max-width: 100%;overflow: auto;}#sk-container-id-1 input.sk-toggleable__control:checked~label.sk-toggleable__label-arrow:before {content: \"▾\";}#sk-container-id-1 div.sk-estimator input.sk-toggleable__control:checked~label.sk-toggleable__label {background-color: #d4ebff;}#sk-container-id-1 div.sk-label input.sk-toggleable__control:checked~label.sk-toggleable__label {background-color: #d4ebff;}#sk-container-id-1 input.sk-hidden--visually {border: 0;clip: rect(1px 1px 1px 1px);clip: rect(1px, 1px, 1px, 1px);height: 1px;margin: -1px;overflow: hidden;padding: 0;position: absolute;width: 1px;}#sk-container-id-1 div.sk-estimator {font-family: monospace;background-color: #f0f8ff;border: 1px dotted black;border-radius: 0.25em;box-sizing: border-box;margin-bottom: 0.5em;}#sk-container-id-1 div.sk-estimator:hover {background-color: #d4ebff;}#sk-container-id-1 div.sk-parallel-item::after {content: \"\";width: 100%;border-bottom: 1px solid gray;flex-grow: 1;}#sk-container-id-1 div.sk-label:hover label.sk-toggleable__label {background-color: #d4ebff;}#sk-container-id-1 div.sk-serial::before {content: \"\";position: absolute;border-left: 1px solid gray;box-sizing: border-box;top: 0;bottom: 0;left: 50%;z-index: 0;}#sk-container-id-1 div.sk-serial {display: flex;flex-direction: column;align-items: center;background-color: white;padding-right: 0.2em;padding-left: 0.2em;position: relative;}#sk-container-id-1 div.sk-item {position: relative;z-index: 1;}#sk-container-id-1 div.sk-parallel {display: flex;align-items: stretch;justify-content: center;background-color: white;position: relative;}#sk-container-id-1 div.sk-item::before, #sk-container-id-1 div.sk-parallel-item::before {content: \"\";position: absolute;border-left: 1px solid gray;box-sizing: border-box;top: 0;bottom: 0;left: 50%;z-index: -1;}#sk-container-id-1 div.sk-parallel-item {display: flex;flex-direction: column;z-index: 1;position: relative;background-color: white;}#sk-container-id-1 div.sk-parallel-item:first-child::after {align-self: flex-end;width: 50%;}#sk-container-id-1 div.sk-parallel-item:last-child::after {align-self: flex-start;width: 50%;}#sk-container-id-1 div.sk-parallel-item:only-child::after {width: 0;}#sk-container-id-1 div.sk-dashed-wrapped {border: 1px dashed gray;margin: 0 0.4em 0.5em 0.4em;box-sizing: border-box;padding-bottom: 0.4em;background-color: white;}#sk-container-id-1 div.sk-label label {font-family: monospace;font-weight: bold;display: inline-block;line-height: 1.2em;}#sk-container-id-1 div.sk-label-container {text-align: center;}#sk-container-id-1 div.sk-container {/* jupyter's `normalize.less` sets `[hidden] { display: none; }` but bootstrap.min.css set `[hidden] { display: none !important; }` so we also need the `!important` here to be able to override the default hidden behavior on the sphinx rendered scikit-learn.org. See: https://github.com/scikit-learn/scikit-learn/issues/21755 */display: inline-block !important;position: relative;}#sk-container-id-1 div.sk-text-repr-fallback {display: none;}</style><div id=\"sk-container-id-1\" class=\"sk-top-container\"><div class=\"sk-text-repr-fallback\"><pre>LinearRegression()</pre><b>In a Jupyter environment, please rerun this cell to show the HTML representation or trust the notebook. <br />On GitHub, the HTML representation is unable to render, please try loading this page with nbviewer.org.</b></div><div class=\"sk-container\" hidden><div class=\"sk-item\"><div class=\"sk-estimator sk-toggleable\"><input class=\"sk-toggleable__control sk-hidden--visually\" id=\"sk-estimator-id-1\" type=\"checkbox\" checked><label for=\"sk-estimator-id-1\" class=\"sk-toggleable__label sk-toggleable__label-arrow\">LinearRegression</label><div class=\"sk-toggleable__content\"><pre>LinearRegression()</pre></div></div></div></div></div>"
      ],
      "text/plain": [
       "LinearRegression()"
      ]
     },
     "execution_count": 8,
     "metadata": {},
     "output_type": "execute_result"
    }
   ],
   "source": [
    "linear_model = LinearRegression()\n",
    "linear_model.fit(X_train, y_train)"
   ]
  },
  {
   "cell_type": "code",
   "execution_count": 9,
   "id": "cd84925c",
   "metadata": {},
   "outputs": [],
   "source": [
    "#Create the Logistic Regression model:"
   ]
  },
  {
   "cell_type": "code",
   "execution_count": 10,
   "id": "f33676a6",
   "metadata": {},
   "outputs": [
    {
     "data": {
      "text/html": [
       "<style>#sk-container-id-2 {color: black;background-color: white;}#sk-container-id-2 pre{padding: 0;}#sk-container-id-2 div.sk-toggleable {background-color: white;}#sk-container-id-2 label.sk-toggleable__label {cursor: pointer;display: block;width: 100%;margin-bottom: 0;padding: 0.3em;box-sizing: border-box;text-align: center;}#sk-container-id-2 label.sk-toggleable__label-arrow:before {content: \"▸\";float: left;margin-right: 0.25em;color: #696969;}#sk-container-id-2 label.sk-toggleable__label-arrow:hover:before {color: black;}#sk-container-id-2 div.sk-estimator:hover label.sk-toggleable__label-arrow:before {color: black;}#sk-container-id-2 div.sk-toggleable__content {max-height: 0;max-width: 0;overflow: hidden;text-align: left;background-color: #f0f8ff;}#sk-container-id-2 div.sk-toggleable__content pre {margin: 0.2em;color: black;border-radius: 0.25em;background-color: #f0f8ff;}#sk-container-id-2 input.sk-toggleable__control:checked~div.sk-toggleable__content {max-height: 200px;max-width: 100%;overflow: auto;}#sk-container-id-2 input.sk-toggleable__control:checked~label.sk-toggleable__label-arrow:before {content: \"▾\";}#sk-container-id-2 div.sk-estimator input.sk-toggleable__control:checked~label.sk-toggleable__label {background-color: #d4ebff;}#sk-container-id-2 div.sk-label input.sk-toggleable__control:checked~label.sk-toggleable__label {background-color: #d4ebff;}#sk-container-id-2 input.sk-hidden--visually {border: 0;clip: rect(1px 1px 1px 1px);clip: rect(1px, 1px, 1px, 1px);height: 1px;margin: -1px;overflow: hidden;padding: 0;position: absolute;width: 1px;}#sk-container-id-2 div.sk-estimator {font-family: monospace;background-color: #f0f8ff;border: 1px dotted black;border-radius: 0.25em;box-sizing: border-box;margin-bottom: 0.5em;}#sk-container-id-2 div.sk-estimator:hover {background-color: #d4ebff;}#sk-container-id-2 div.sk-parallel-item::after {content: \"\";width: 100%;border-bottom: 1px solid gray;flex-grow: 1;}#sk-container-id-2 div.sk-label:hover label.sk-toggleable__label {background-color: #d4ebff;}#sk-container-id-2 div.sk-serial::before {content: \"\";position: absolute;border-left: 1px solid gray;box-sizing: border-box;top: 0;bottom: 0;left: 50%;z-index: 0;}#sk-container-id-2 div.sk-serial {display: flex;flex-direction: column;align-items: center;background-color: white;padding-right: 0.2em;padding-left: 0.2em;position: relative;}#sk-container-id-2 div.sk-item {position: relative;z-index: 1;}#sk-container-id-2 div.sk-parallel {display: flex;align-items: stretch;justify-content: center;background-color: white;position: relative;}#sk-container-id-2 div.sk-item::before, #sk-container-id-2 div.sk-parallel-item::before {content: \"\";position: absolute;border-left: 1px solid gray;box-sizing: border-box;top: 0;bottom: 0;left: 50%;z-index: -1;}#sk-container-id-2 div.sk-parallel-item {display: flex;flex-direction: column;z-index: 1;position: relative;background-color: white;}#sk-container-id-2 div.sk-parallel-item:first-child::after {align-self: flex-end;width: 50%;}#sk-container-id-2 div.sk-parallel-item:last-child::after {align-self: flex-start;width: 50%;}#sk-container-id-2 div.sk-parallel-item:only-child::after {width: 0;}#sk-container-id-2 div.sk-dashed-wrapped {border: 1px dashed gray;margin: 0 0.4em 0.5em 0.4em;box-sizing: border-box;padding-bottom: 0.4em;background-color: white;}#sk-container-id-2 div.sk-label label {font-family: monospace;font-weight: bold;display: inline-block;line-height: 1.2em;}#sk-container-id-2 div.sk-label-container {text-align: center;}#sk-container-id-2 div.sk-container {/* jupyter's `normalize.less` sets `[hidden] { display: none; }` but bootstrap.min.css set `[hidden] { display: none !important; }` so we also need the `!important` here to be able to override the default hidden behavior on the sphinx rendered scikit-learn.org. See: https://github.com/scikit-learn/scikit-learn/issues/21755 */display: inline-block !important;position: relative;}#sk-container-id-2 div.sk-text-repr-fallback {display: none;}</style><div id=\"sk-container-id-2\" class=\"sk-top-container\"><div class=\"sk-text-repr-fallback\"><pre>LogisticRegression()</pre><b>In a Jupyter environment, please rerun this cell to show the HTML representation or trust the notebook. <br />On GitHub, the HTML representation is unable to render, please try loading this page with nbviewer.org.</b></div><div class=\"sk-container\" hidden><div class=\"sk-item\"><div class=\"sk-estimator sk-toggleable\"><input class=\"sk-toggleable__control sk-hidden--visually\" id=\"sk-estimator-id-2\" type=\"checkbox\" checked><label for=\"sk-estimator-id-2\" class=\"sk-toggleable__label sk-toggleable__label-arrow\">LogisticRegression</label><div class=\"sk-toggleable__content\"><pre>LogisticRegression()</pre></div></div></div></div></div>"
      ],
      "text/plain": [
       "LogisticRegression()"
      ]
     },
     "execution_count": 10,
     "metadata": {},
     "output_type": "execute_result"
    }
   ],
   "source": [
    "logistic_model = LogisticRegression()\n",
    "logistic_model.fit(X_train, y_train)"
   ]
  },
  {
   "cell_type": "code",
   "execution_count": 11,
   "id": "a1c87129",
   "metadata": {},
   "outputs": [],
   "source": [
    "#Create the K-Nearest Neighbors (KNN) model:"
   ]
  },
  {
   "cell_type": "code",
   "execution_count": 12,
   "id": "09ec530d",
   "metadata": {},
   "outputs": [
    {
     "data": {
      "text/html": [
       "<style>#sk-container-id-3 {color: black;background-color: white;}#sk-container-id-3 pre{padding: 0;}#sk-container-id-3 div.sk-toggleable {background-color: white;}#sk-container-id-3 label.sk-toggleable__label {cursor: pointer;display: block;width: 100%;margin-bottom: 0;padding: 0.3em;box-sizing: border-box;text-align: center;}#sk-container-id-3 label.sk-toggleable__label-arrow:before {content: \"▸\";float: left;margin-right: 0.25em;color: #696969;}#sk-container-id-3 label.sk-toggleable__label-arrow:hover:before {color: black;}#sk-container-id-3 div.sk-estimator:hover label.sk-toggleable__label-arrow:before {color: black;}#sk-container-id-3 div.sk-toggleable__content {max-height: 0;max-width: 0;overflow: hidden;text-align: left;background-color: #f0f8ff;}#sk-container-id-3 div.sk-toggleable__content pre {margin: 0.2em;color: black;border-radius: 0.25em;background-color: #f0f8ff;}#sk-container-id-3 input.sk-toggleable__control:checked~div.sk-toggleable__content {max-height: 200px;max-width: 100%;overflow: auto;}#sk-container-id-3 input.sk-toggleable__control:checked~label.sk-toggleable__label-arrow:before {content: \"▾\";}#sk-container-id-3 div.sk-estimator input.sk-toggleable__control:checked~label.sk-toggleable__label {background-color: #d4ebff;}#sk-container-id-3 div.sk-label input.sk-toggleable__control:checked~label.sk-toggleable__label {background-color: #d4ebff;}#sk-container-id-3 input.sk-hidden--visually {border: 0;clip: rect(1px 1px 1px 1px);clip: rect(1px, 1px, 1px, 1px);height: 1px;margin: -1px;overflow: hidden;padding: 0;position: absolute;width: 1px;}#sk-container-id-3 div.sk-estimator {font-family: monospace;background-color: #f0f8ff;border: 1px dotted black;border-radius: 0.25em;box-sizing: border-box;margin-bottom: 0.5em;}#sk-container-id-3 div.sk-estimator:hover {background-color: #d4ebff;}#sk-container-id-3 div.sk-parallel-item::after {content: \"\";width: 100%;border-bottom: 1px solid gray;flex-grow: 1;}#sk-container-id-3 div.sk-label:hover label.sk-toggleable__label {background-color: #d4ebff;}#sk-container-id-3 div.sk-serial::before {content: \"\";position: absolute;border-left: 1px solid gray;box-sizing: border-box;top: 0;bottom: 0;left: 50%;z-index: 0;}#sk-container-id-3 div.sk-serial {display: flex;flex-direction: column;align-items: center;background-color: white;padding-right: 0.2em;padding-left: 0.2em;position: relative;}#sk-container-id-3 div.sk-item {position: relative;z-index: 1;}#sk-container-id-3 div.sk-parallel {display: flex;align-items: stretch;justify-content: center;background-color: white;position: relative;}#sk-container-id-3 div.sk-item::before, #sk-container-id-3 div.sk-parallel-item::before {content: \"\";position: absolute;border-left: 1px solid gray;box-sizing: border-box;top: 0;bottom: 0;left: 50%;z-index: -1;}#sk-container-id-3 div.sk-parallel-item {display: flex;flex-direction: column;z-index: 1;position: relative;background-color: white;}#sk-container-id-3 div.sk-parallel-item:first-child::after {align-self: flex-end;width: 50%;}#sk-container-id-3 div.sk-parallel-item:last-child::after {align-self: flex-start;width: 50%;}#sk-container-id-3 div.sk-parallel-item:only-child::after {width: 0;}#sk-container-id-3 div.sk-dashed-wrapped {border: 1px dashed gray;margin: 0 0.4em 0.5em 0.4em;box-sizing: border-box;padding-bottom: 0.4em;background-color: white;}#sk-container-id-3 div.sk-label label {font-family: monospace;font-weight: bold;display: inline-block;line-height: 1.2em;}#sk-container-id-3 div.sk-label-container {text-align: center;}#sk-container-id-3 div.sk-container {/* jupyter's `normalize.less` sets `[hidden] { display: none; }` but bootstrap.min.css set `[hidden] { display: none !important; }` so we also need the `!important` here to be able to override the default hidden behavior on the sphinx rendered scikit-learn.org. See: https://github.com/scikit-learn/scikit-learn/issues/21755 */display: inline-block !important;position: relative;}#sk-container-id-3 div.sk-text-repr-fallback {display: none;}</style><div id=\"sk-container-id-3\" class=\"sk-top-container\"><div class=\"sk-text-repr-fallback\"><pre>KNeighborsClassifier(n_neighbors=3)</pre><b>In a Jupyter environment, please rerun this cell to show the HTML representation or trust the notebook. <br />On GitHub, the HTML representation is unable to render, please try loading this page with nbviewer.org.</b></div><div class=\"sk-container\" hidden><div class=\"sk-item\"><div class=\"sk-estimator sk-toggleable\"><input class=\"sk-toggleable__control sk-hidden--visually\" id=\"sk-estimator-id-3\" type=\"checkbox\" checked><label for=\"sk-estimator-id-3\" class=\"sk-toggleable__label sk-toggleable__label-arrow\">KNeighborsClassifier</label><div class=\"sk-toggleable__content\"><pre>KNeighborsClassifier(n_neighbors=3)</pre></div></div></div></div></div>"
      ],
      "text/plain": [
       "KNeighborsClassifier(n_neighbors=3)"
      ]
     },
     "execution_count": 12,
     "metadata": {},
     "output_type": "execute_result"
    }
   ],
   "source": [
    "knn_model = KNeighborsClassifier(n_neighbors=3)\n",
    "knn_model.fit(X_train, y_train)"
   ]
  },
  {
   "cell_type": "code",
   "execution_count": 13,
   "id": "d9b10949",
   "metadata": {},
   "outputs": [],
   "source": [
    "#Create the Artificial Neural Network (ANN) model:"
   ]
  },
  {
   "cell_type": "code",
   "execution_count": 14,
   "id": "b7c93bd9",
   "metadata": {},
   "outputs": [
    {
     "name": "stdout",
     "output_type": "stream",
     "text": [
      "Epoch 1/50\n",
      "3/3 [==============================] - 1s 4ms/step - loss: 1.1873 - accuracy: 0.0375\n",
      "Epoch 2/50\n",
      "3/3 [==============================] - 0s 3ms/step - loss: 1.1717 - accuracy: 0.0375\n",
      "Epoch 3/50\n",
      "3/3 [==============================] - 0s 4ms/step - loss: 1.1581 - accuracy: 0.0250\n",
      "Epoch 4/50\n",
      "3/3 [==============================] - 0s 3ms/step - loss: 1.1465 - accuracy: 0.0250\n",
      "Epoch 5/50\n",
      "3/3 [==============================] - 0s 4ms/step - loss: 1.1334 - accuracy: 0.0125\n",
      "Epoch 6/50\n",
      "3/3 [==============================] - 0s 3ms/step - loss: 1.1214 - accuracy: 0.0125\n",
      "Epoch 7/50\n",
      "3/3 [==============================] - 0s 3ms/step - loss: 1.1100 - accuracy: 0.0125\n",
      "Epoch 8/50\n",
      "3/3 [==============================] - 0s 3ms/step - loss: 1.0986 - accuracy: 0.0125\n",
      "Epoch 9/50\n",
      "3/3 [==============================] - 0s 3ms/step - loss: 1.0873 - accuracy: 0.0125\n",
      "Epoch 10/50\n",
      "3/3 [==============================] - 0s 2ms/step - loss: 1.0763 - accuracy: 0.0125\n",
      "Epoch 11/50\n",
      "3/3 [==============================] - 0s 3ms/step - loss: 1.0652 - accuracy: 0.0125\n",
      "Epoch 12/50\n",
      "3/3 [==============================] - 0s 3ms/step - loss: 1.0544 - accuracy: 0.0125\n",
      "Epoch 13/50\n",
      "3/3 [==============================] - 0s 3ms/step - loss: 1.0432 - accuracy: 0.0125\n",
      "Epoch 14/50\n",
      "3/3 [==============================] - 0s 3ms/step - loss: 1.0324 - accuracy: 0.0125\n",
      "Epoch 15/50\n",
      "3/3 [==============================] - 0s 3ms/step - loss: 1.0214 - accuracy: 0.0125\n",
      "Epoch 16/50\n",
      "3/3 [==============================] - 0s 3ms/step - loss: 1.0108 - accuracy: 0.0125\n",
      "Epoch 17/50\n",
      "3/3 [==============================] - 0s 3ms/step - loss: 1.0000 - accuracy: 0.0125\n",
      "Epoch 18/50\n",
      "3/3 [==============================] - 0s 3ms/step - loss: 0.9894 - accuracy: 0.0250\n",
      "Epoch 19/50\n",
      "3/3 [==============================] - 0s 2ms/step - loss: 0.9789 - accuracy: 0.0250\n",
      "Epoch 20/50\n",
      "3/3 [==============================] - 0s 4ms/step - loss: 0.9683 - accuracy: 0.0250\n",
      "Epoch 21/50\n",
      "3/3 [==============================] - 0s 3ms/step - loss: 0.9577 - accuracy: 0.0250\n",
      "Epoch 22/50\n",
      "3/3 [==============================] - 0s 3ms/step - loss: 0.9474 - accuracy: 0.0375\n",
      "Epoch 23/50\n",
      "3/3 [==============================] - 0s 2ms/step - loss: 0.9372 - accuracy: 0.0375\n",
      "Epoch 24/50\n",
      "3/3 [==============================] - 0s 3ms/step - loss: 0.9273 - accuracy: 0.0375\n",
      "Epoch 25/50\n",
      "3/3 [==============================] - 0s 3ms/step - loss: 0.9174 - accuracy: 0.0625\n",
      "Epoch 26/50\n",
      "3/3 [==============================] - 0s 3ms/step - loss: 0.9082 - accuracy: 0.0875\n",
      "Epoch 27/50\n",
      "3/3 [==============================] - 0s 3ms/step - loss: 0.8987 - accuracy: 0.2125\n",
      "Epoch 28/50\n",
      "3/3 [==============================] - 0s 3ms/step - loss: 0.8906 - accuracy: 0.2750\n",
      "Epoch 29/50\n",
      "3/3 [==============================] - 0s 3ms/step - loss: 0.8820 - accuracy: 0.3750\n",
      "Epoch 30/50\n",
      "3/3 [==============================] - 0s 3ms/step - loss: 0.8742 - accuracy: 0.3875\n",
      "Epoch 31/50\n",
      "3/3 [==============================] - 0s 3ms/step - loss: 0.8664 - accuracy: 0.4375\n",
      "Epoch 32/50\n",
      "3/3 [==============================] - 0s 3ms/step - loss: 0.8584 - accuracy: 0.4375\n",
      "Epoch 33/50\n",
      "3/3 [==============================] - 0s 2ms/step - loss: 0.8513 - accuracy: 0.3875\n",
      "Epoch 34/50\n",
      "3/3 [==============================] - 0s 3ms/step - loss: 0.8436 - accuracy: 0.3875\n",
      "Epoch 35/50\n",
      "3/3 [==============================] - 0s 3ms/step - loss: 0.8360 - accuracy: 0.3875\n",
      "Epoch 36/50\n",
      "3/3 [==============================] - 0s 3ms/step - loss: 0.8288 - accuracy: 0.4000\n",
      "Epoch 37/50\n",
      "3/3 [==============================] - 0s 3ms/step - loss: 0.8214 - accuracy: 0.4000\n",
      "Epoch 38/50\n",
      "3/3 [==============================] - 0s 3ms/step - loss: 0.8141 - accuracy: 0.4375\n",
      "Epoch 39/50\n",
      "3/3 [==============================] - 0s 3ms/step - loss: 0.8071 - accuracy: 0.4375\n",
      "Epoch 40/50\n",
      "3/3 [==============================] - 0s 3ms/step - loss: 0.8000 - accuracy: 0.4500\n",
      "Epoch 41/50\n",
      "3/3 [==============================] - 0s 3ms/step - loss: 0.7931 - accuracy: 0.4750\n",
      "Epoch 42/50\n",
      "3/3 [==============================] - 0s 2ms/step - loss: 0.7860 - accuracy: 0.4875\n",
      "Epoch 43/50\n",
      "3/3 [==============================] - 0s 3ms/step - loss: 0.7789 - accuracy: 0.5375\n",
      "Epoch 44/50\n",
      "3/3 [==============================] - 0s 3ms/step - loss: 0.7722 - accuracy: 0.5625\n",
      "Epoch 45/50\n",
      "3/3 [==============================] - 0s 4ms/step - loss: 0.7653 - accuracy: 0.5625\n",
      "Epoch 46/50\n",
      "3/3 [==============================] - 0s 3ms/step - loss: 0.7583 - accuracy: 0.5625\n",
      "Epoch 47/50\n",
      "3/3 [==============================] - 0s 3ms/step - loss: 0.7516 - accuracy: 0.5625\n",
      "Epoch 48/50\n",
      "3/3 [==============================] - 0s 3ms/step - loss: 0.7448 - accuracy: 0.5625\n",
      "Epoch 49/50\n",
      "3/3 [==============================] - 0s 3ms/step - loss: 0.7381 - accuracy: 0.5625\n",
      "Epoch 50/50\n",
      "3/3 [==============================] - 0s 3ms/step - loss: 0.7315 - accuracy: 0.5625\n"
     ]
    },
    {
     "data": {
      "text/plain": [
       "<keras.src.callbacks.History at 0x1b6a69d88b0>"
      ]
     },
     "execution_count": 14,
     "metadata": {},
     "output_type": "execute_result"
    }
   ],
   "source": [
    "ann_model = keras.Sequential([\n",
    "    layers.Dense(10, activation='relu', input_shape=(2,)),\n",
    "    layers.Dense(2, activation='softmax')  # Two output nodes for two classes\n",
    "])\n",
    "\n",
    "ann_model.compile(optimizer='adam', loss='categorical_crossentropy', metrics=['accuracy'])\n",
    "\n",
    "# Convert the labels to one-hot encoded vectors for the ANN model\n",
    "y_train_onehot = keras.utils.to_categorical(y_train, num_classes=2)\n",
    "y_test_onehot = keras.utils.to_categorical(y_test, num_classes=2)\n",
    "\n",
    "ann_model.fit(X_train, y_train_onehot, epochs=50, batch_size=32, verbose=1)"
   ]
  },
  {
   "cell_type": "code",
   "execution_count": 15,
   "id": "4aeba400",
   "metadata": {},
   "outputs": [],
   "source": [
    "#Evaluate the models:"
   ]
  },
  {
   "cell_type": "code",
   "execution_count": 16,
   "id": "b57c2d63",
   "metadata": {},
   "outputs": [
    {
     "name": "stdout",
     "output_type": "stream",
     "text": [
      "1/1 [==============================] - 0s 72ms/step\n",
      "Linear Regression Accuracy: 1.0\n",
      "Logistic Regression Accuracy: 1.0\n",
      "K-Nearest Neighbors Accuracy: 1.0\n",
      "Artificial Neural Network Accuracy: 0.25\n"
     ]
    }
   ],
   "source": [
    "linear_predictions = linear_model.predict(X_test)\n",
    "logistic_predictions = logistic_model.predict(X_test)\n",
    "knn_predictions = knn_model.predict(X_test)\n",
    "ann_predictions = np.argmax(ann_model.predict(X_test), axis=-1)\n",
    "\n",
    "linear_accuracy = accuracy_score(y_test, np.round(linear_predictions))\n",
    "logistic_accuracy = accuracy_score(y_test, logistic_predictions)\n",
    "knn_accuracy = accuracy_score(y_test, knn_predictions)\n",
    "ann_accuracy = accuracy_score(y_test, ann_predictions)\n",
    "\n",
    "print(f\"Linear Regression Accuracy: {linear_accuracy}\")\n",
    "print(f\"Logistic Regression Accuracy: {logistic_accuracy}\")\n",
    "print(f\"K-Nearest Neighbors Accuracy: {knn_accuracy}\")\n",
    "print(f\"Artificial Neural Network Accuracy: {ann_accuracy}\")"
   ]
  }
 ],
 "metadata": {
  "kernelspec": {
   "display_name": "Python 3 (ipykernel)",
   "language": "python",
   "name": "python3"
  },
  "language_info": {
   "codemirror_mode": {
    "name": "ipython",
    "version": 3
   },
   "file_extension": ".py",
   "mimetype": "text/x-python",
   "name": "python",
   "nbconvert_exporter": "python",
   "pygments_lexer": "ipython3",
   "version": "3.10.9"
  }
 },
 "nbformat": 4,
 "nbformat_minor": 5
}
